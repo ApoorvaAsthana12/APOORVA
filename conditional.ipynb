{
 "cells": [
  {
   "cell_type": "code",
   "execution_count": 6,
   "metadata": {},
   "outputs": [
    {
     "name": "stdout",
     "output_type": "stream",
     "text": [
      "A\n"
     ]
    }
   ],
   "source": [
    "marks=76\n",
    "if marks >=90:\n",
    "    print(\"A+\")\n",
    "elif marks >=70:\n",
    "    print(\"A\")\n",
    "elif marks >=50:\n",
    "    print(\"B\")\n",
    "elif marks <50:\n",
    "    print(\"fail\")   \n",
    "else:\n",
    "    print(\"invalid marks\")"
   ]
  },
  {
   "cell_type": "code",
   "execution_count": null,
   "metadata": {},
   "outputs": [
    {
     "name": "stdout",
     "output_type": "stream",
     "text": [
      "A\n",
      "B\n"
     ]
    }
   ],
   "source": [
    "marks=76\n",
    "if marks >=90:\n",
    "    print(\"A+\")\n",
    "if marks >=70:\n",
    "    print(\"A\")\n",
    "if marks >=50:\n",
    "    print(\"B\")\n",
    "if marks <50:\n",
    "    print(\"fail\")           \n",
    "    #checks all conditions is a disadvantage\n",
    "    #syntax is different\n",
    "    #it does not give output if all conditions are false"
   ]
  },
  {
   "cell_type": "code",
   "execution_count": 11,
   "metadata": {},
   "outputs": [
    {
     "name": "stdout",
     "output_type": "stream",
     "text": [
      "even number\n"
     ]
    }
   ],
   "source": [
    "a=int(input(\"enter the number\"))\n",
    "if a%2==0:\n",
    "    print(\"even number\")\n",
    "elif a%2!=0:\n",
    "    print(\"odd number\")\n",
    "else:\n",
    "    print(\"wrong number\")        "
   ]
  },
  {
   "cell_type": "code",
   "execution_count": 13,
   "metadata": {},
   "outputs": [
    {
     "name": "stdout",
     "output_type": "stream",
     "text": [
      "positive number\n",
      "invalid\n"
     ]
    }
   ],
   "source": [
    "num=int(input(\"enter the number\"))\n",
    "if num>0:\n",
    "    print(\"positive number\")\n",
    "if num<0:\n",
    "    print(\"negative number\")\n",
    "if num==0:\n",
    "    print(\"zero\")\n",
    "else:\n",
    "    print(\"invalid\")    \n",
    "    "
   ]
  },
  {
   "cell_type": "code",
   "execution_count": null,
   "metadata": {},
   "outputs": [],
   "source": [
    "#day=monday\n",
    "if day='mon':\n",
    "    print(first day)\n",
    "    print(back tp work)\n"
   ]
  },
  {
   "cell_type": "code",
   "execution_count": 3,
   "metadata": {},
   "outputs": [
    {
     "name": "stdout",
     "output_type": "stream",
     "text": [
      "leap year\n"
     ]
    }
   ],
   "source": [
    "year=int(input(\"enter year\"))\n",
    "if year%4==0:\n",
    "    print(\"leap year\")\n",
    "elif year%4!=0:\n",
    "    print(\"not leap year\")\n"
   ]
  },
  {
   "cell_type": "code",
   "execution_count": 2,
   "metadata": {},
   "outputs": [
    {
     "name": "stdout",
     "output_type": "stream",
     "text": [
      "eligible for vote\n"
     ]
    }
   ],
   "source": [
    "age=int(input(\"enter age\"))\n",
    "if age>18:\n",
    "    print(\"eligible for vote\")\n",
    "elif age<18:\n",
    "    print(\"not eligible\")    "
   ]
  },
  {
   "cell_type": "code",
   "execution_count": 14,
   "metadata": {},
   "outputs": [
    {
     "name": "stdout",
     "output_type": "stream",
     "text": [
      "person is eligible to vote\n"
     ]
    }
   ],
   "source": [
    "age=30\n",
    "if age >=18:\n",
    "    print(\"person is eligible to vote\")\n",
    "else:\n",
    "    print(\"person is not eligible to vote\")    "
   ]
  },
  {
   "cell_type": "code",
   "execution_count": null,
   "metadata": {},
   "outputs": [],
   "source": [
    "a=int(input(\"enter first number\"))\n",
    "b=int(input(\"enter second number\"))\n"
   ]
  },
  {
   "cell_type": "code",
   "execution_count": 17,
   "metadata": {},
   "outputs": [
    {
     "name": "stdout",
     "output_type": "stream",
     "text": [
      "isoceles triangle\n"
     ]
    }
   ],
   "source": [
    "side1=int(input(\"enter first side\"))\n",
    "side2=int(input(\"enter second side\"))\n",
    "side3=int(input(\"enter third side\"))\n",
    "if side1==side2==side3:\n",
    "    print(\"equilateral triangle\")\n",
    "else:\n",
    "    print(\"isoceles triangle\")    "
   ]
  },
  {
   "cell_type": "code",
   "execution_count": 23,
   "metadata": {},
   "outputs": [
    {
     "name": "stdout",
     "output_type": "stream",
     "text": [
      "yes\n"
     ]
    }
   ],
   "source": [
    "appsname=['whatsapp','googlemaps','insta','zomato','swiggy','snap','dearme','chess','ludo','uber']\n",
    "'Zomato' in appsname\n",
    "print(\"yes\")"
   ]
  },
  {
   "cell_type": "code",
   "execution_count": 2,
   "metadata": {},
   "outputs": [
    {
     "name": "stdout",
     "output_type": "stream",
     "text": [
      "not equal\n"
     ]
    }
   ],
   "source": [
    "side1=int(input(\"enter first side\"))\n",
    "side2=int(input(\"enter second side\"))\n",
    "if side1==side2:\n",
    "    print(\"equal\")\n",
    "else:\n",
    "    print(\"not equal\")    "
   ]
  },
  {
   "cell_type": "code",
   "execution_count": 7,
   "metadata": {},
   "outputs": [
    {
     "name": "stdout",
     "output_type": "stream",
     "text": [
      "it is not vowel\n"
     ]
    }
   ],
   "source": [
    "ch=input(\"enter the character\")\n",
    "if ch=='a' or ch=='e' or ch=='i' or ch=='o' or ch=='u' or ch=='A' or ch=='E' or ch=='I' or ch=='O' or ch=='U':\n",
    "    print(\"it is vowel\")\n",
    "else:\n",
    "    print(\"it is not vowel\")    "
   ]
  },
  {
   "cell_type": "code",
   "execution_count": 2,
   "metadata": {},
   "outputs": [
    {
     "name": "stdout",
     "output_type": "stream",
     "text": [
      "a is greater\n"
     ]
    }
   ],
   "source": [
    "a=int(input(\"enter first value\"))\n",
    "b=int(input(\"enter second value\"))\n",
    "c=int(input(\"enter third number\"))\n",
    "if a>b and a>c:\n",
    "    print(\"a is greater\")\n",
    "elif b>a and b>c:\n",
    "    print(\"b is greater\")\n",
    "elif c>a and c>b:\n",
    "    print(\"c is greater\")    \n",
    "else:\n",
    "    print(\"invalid\")        "
   ]
  }
 ],
 "metadata": {
  "kernelspec": {
   "display_name": "base",
   "language": "python",
   "name": "python3"
  },
  "language_info": {
   "codemirror_mode": {
    "name": "ipython",
    "version": 3
   },
   "file_extension": ".py",
   "mimetype": "text/x-python",
   "name": "python",
   "nbconvert_exporter": "python",
   "pygments_lexer": "ipython3",
   "version": "3.12.7"
  }
 },
 "nbformat": 4,
 "nbformat_minor": 2
}
